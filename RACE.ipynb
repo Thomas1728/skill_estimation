{
 "cells": [
  {
   "cell_type": "code",
   "execution_count": 6,
   "id": "870e24ca",
   "metadata": {},
   "outputs": [],
   "source": [
    "import numpy as np\n",
    "import pystan\n",
    "import matplotlib.pyplot as plt\n",
    "%matplotlib inline"
   ]
  },
  {
   "cell_type": "code",
   "execution_count": 7,
   "id": "d0f4c9ed",
   "metadata": {},
   "outputs": [],
   "source": [
    "skill_model = \"\"\"\n",
    "data {\n",
    "  int<lower=1> N;             // Total number of players\n",
    "  int<lower=1> E;             // number of games\n",
    "  real<lower=0> scale;        // scale value for probability computation\n",
    "  int<lower=0,upper=1> win[E]; // PA wins vs PB\n",
    "  int PA[E];                  // player info between each game\n",
    "  int PB[E];                  // \n",
    "  int RA[E];                  // player's race between each game\n",
    "  int RB[E];                  // \n",
    "  \n",
    "}\n",
    "parameters {\n",
    "  vector [N] skillZ;           // one player may use different races\n",
    "  vector [N] skillP;           // the result may various acoording to different races\n",
    "  vector [N] skillT; \n",
    "}\n",
    "\n",
    "model{\n",
    "  for (i in 1:N){ skillZ[i]~normal(0,3); skillP[i]~normal(0,3); skillT[i]~normal(0,3); }\n",
    "  \n",
    "  for (i in 1:E){\n",
    "    if (RA[i] == 0){\n",
    "        if (RB[i] == 0){\n",
    "            win[i] ~ bernoulli_logit( (scale)*(skillZ[PA[i]]-skillZ[PB[i]]) );}\n",
    "        else if (RB[i] == 1){\n",
    "            win[i] ~ bernoulli_logit( (scale)*(skillZ[PA[i]]-skillP[PB[i]]) );}\n",
    "        else if (RB[i] == 2){\n",
    "            win[i] ~ bernoulli_logit( (scale)*(skillZ[PA[i]]-skillT[PB[i]]) );}}\n",
    "            \n",
    "    else if (RA[i] == 1){\n",
    "        if (RB[i] == 0){\n",
    "            win[i] ~ bernoulli_logit( (scale)*(skillP[PA[i]]-skillZ[PB[i]]) );}\n",
    "        else if (RB[i] == 1){\n",
    "            win[i] ~ bernoulli_logit( (scale)*(skillP[PA[i]]-skillP[PB[i]]) );}\n",
    "        else if (RB[i] == 2){\n",
    "            win[i] ~ bernoulli_logit( (scale)*(skillP[PA[i]]-skillT[PB[i]]) );}}\n",
    "            \n",
    "    else if (RA[i] == 2){\n",
    "        if (RB[i] == 0){\n",
    "            win[i] ~ bernoulli_logit( (scale)*(skillT[PA[i]]-skillZ[PB[i]]) );}\n",
    "        else if (RB[i] == 1){\n",
    "            win[i] ~ bernoulli_logit( (scale)*(skillT[PA[i]]-skillP[PB[i]]) );}\n",
    "        else if (RB[i] == 2){\n",
    "            win[i] ~ bernoulli_logit( (scale)*(skillT[PA[i]]-skillT[PB[i]]) );}}\n",
    "  }   // win probability is a logit function of skill difference\n",
    "}\n",
    "\"\"\""
   ]
  },
  {
   "cell_type": "code",
   "execution_count": 8,
   "id": "726a0cc1",
   "metadata": {},
   "outputs": [
    {
     "name": "stderr",
     "output_type": "stream",
     "text": [
      "INFO:pystan:COMPILING THE C++ CODE FOR MODEL anon_model_991df902cb5e9dd38bebf52a4b126a89 NOW.\n"
     ]
    }
   ],
   "source": [
    "import pickle\n",
    "# try:     # load it if already compiled\n",
    "#     sm = pickle.load(open('skill_race.pkl', 'rb'))\n",
    "# except:  # ow, compile and save compiled model\n",
    "sm = pystan.StanModel(model_code = skill_model)\n",
    "with open('skill_race.pkl', 'wb') as f: pickle.dump(sm, f)"
   ]
  },
  {
   "cell_type": "code",
   "execution_count": 38,
   "id": "3385510c",
   "metadata": {},
   "outputs": [],
   "source": [
    "def load_data(path):\n",
    "    with open(path, encoding='utf-8') as f: lines = f.read().split('\\n')\n",
    "\n",
    "    p = 0;playerid = {};\n",
    "    for i in range(len(lines)):\n",
    "        csv = lines[i].split(',')\n",
    "        if len(csv) != 10: continue;   # parse error or blank line\n",
    "        player0,player1 = csv[1],csv[4]\n",
    "        if player0 not in playerid: playerid[player0]=p;p+=1\n",
    "        if player1 not in playerid: playerid[player1]=p;p+=1\n",
    "\n",
    "    nplayers = len(playerid)\n",
    "    games = 0\n",
    "    \n",
    "    # Sparsifying parameters (discard some training examples):\n",
    "    pKeep = 1.0   # fraction of edges to consider (immed. throw out 1-p edges)\n",
    "    nEdge = 3     # try to keep nEdge opponents per player (may be more; asymmetric)\n",
    "    nKeep = 5     # keep at most nKeep games per opponent pairs (play each other multiple times)\n",
    "\n",
    "    nplays, nwins = np.zeros( (nplayers,nplayers) ), np.zeros( (nplayers,nplayers) );\n",
    "    PA, PB, win, RA, RB = [], [], [], [], []\n",
    "    \n",
    "    for i in range(len(lines)):\n",
    "        csv = lines[i].split(',')\n",
    "        if len(csv) != 10: continue;   # parse error or blank line\n",
    "        a,b = playerid[csv[1]],playerid[csv[4]]\n",
    "        aw,bw = csv[2]=='[winner]',csv[5]=='[winner]'\n",
    "        ra, rb = csv[6], csv[7]\n",
    "        if ra == 'R' or rb == 'R': continue;\n",
    "        if (np.random.rand() < pKeep):\n",
    "            if (nplays[a,b] < nKeep) and ( ((nplays[a,:]>0).sum() < nEdge) or ((nplays[:,b]>0).sum() < nEdge) ):\n",
    "                nplays[a,b] += 1; nplays[b,a]+=1;nwins[a,b] += aw; nwins[b,a] += bw; PA.append(a+1); PB.append(b+1);games+=1\n",
    "                if aw:\n",
    "                    win.append(1)\n",
    "                else:\n",
    "                    win.append(0)\n",
    "                \n",
    "                if ra == 'Z':\n",
    "                    RA.append(0)\n",
    "                elif ra == 'P':\n",
    "                    RA.append(1)\n",
    "                elif ra == 'T':\n",
    "                    RA.append(2)\n",
    "                    \n",
    "                if rb == 'Z':\n",
    "                    RB.append(0)\n",
    "                elif rb == 'P':\n",
    "                    RB.append(1)\n",
    "                elif rb == 'T':\n",
    "                    RB.append(2)\n",
    "\n",
    "    return nplayers, games, PA, PB, RA, RB, win, nplays, nwins"
   ]
  },
  {
   "cell_type": "code",
   "execution_count": 39,
   "id": "d3d151f9",
   "metadata": {},
   "outputs": [],
   "source": [
    "nplayers, games, PA, PB, RA, RB, win, nplays, nwins = load_data('train.csv')"
   ]
  },
  {
   "cell_type": "code",
   "execution_count": 41,
   "id": "9aa67bcd",
   "metadata": {},
   "outputs": [
    {
     "name": "stdout",
     "output_type": "stream",
     "text": [
      "number of players 999\n",
      "number of games 4678\n",
      "number of PA wins vs PB 4678\n",
      "number of PA 4678\n",
      "number of PB 4678\n",
      "number of race of PA 4678\n",
      "number of race of PB 4678\n"
     ]
    }
   ],
   "source": [
    "print('number of players', nplayers)\n",
    "print('number of games', games)\n",
    "print('number of PA wins vs PB', len(win))\n",
    "print('number of PA', len(PA))\n",
    "print('number of PB', len(PB))\n",
    "print('number of race of PA', len(RA))\n",
    "print('number of race of PB', len(RB))"
   ]
  },
  {
   "cell_type": "code",
   "execution_count": 12,
   "id": "df52176e",
   "metadata": {},
   "outputs": [],
   "source": [
    "skill_data = {\n",
    "    'N': nplayers,\n",
    "    'E': games,\n",
    "    'scale': 0.3,\n",
    "    'win':win,\n",
    "    'PA': PA,\n",
    "    'PB': PB,\n",
    "    'RA': RA,\n",
    "    'RB': RB\n",
    "}"
   ]
  },
  {
   "cell_type": "code",
   "execution_count": 15,
   "id": "bac62b29",
   "metadata": {},
   "outputs": [
    {
     "name": "stderr",
     "output_type": "stream",
     "text": [
      "WARNING:pystan:Maximum (flat) parameter count (1000) exceeded: skipping diagnostic tests for n_eff and Rhat.\n",
      "To run all diagnostics call pystan.check_hmc_diagnostics(fit)\n"
     ]
    }
   ],
   "source": [
    "fit = sm.sampling(data=skill_data, iter=1000, chains=4, control={'max_treedepth': 12})"
   ]
  },
  {
   "cell_type": "code",
   "execution_count": 16,
   "id": "d5d5ef95",
   "metadata": {},
   "outputs": [],
   "source": [
    "samples = fit.extract()"
   ]
  },
  {
   "cell_type": "code",
   "execution_count": 22,
   "id": "d14973a2",
   "metadata": {},
   "outputs": [
    {
     "name": "stdout",
     "output_type": "stream",
     "text": [
      "0.2404427721690058\n"
     ]
    }
   ],
   "source": [
    "def logit(z): return 1./(1.+np.exp(-z))\n",
    "\n",
    "prob = logit( skill_data['scale']*(samples['skillT'][:,0]-samples['skillP'][:,1]) ).mean()\n",
    "\n",
    "print(prob)"
   ]
  },
  {
   "cell_type": "markdown",
   "id": "e50c3961",
   "metadata": {},
   "source": [
    "The train process spend more than one hour. So we decide to save it by pickle."
   ]
  },
  {
   "cell_type": "code",
   "execution_count": 19,
   "id": "a9d73905",
   "metadata": {},
   "outputs": [],
   "source": [
    "with open('skill_race_depth-200.pkl', 'wb') as f: pickle.dump(samples, f)"
   ]
  },
  {
   "cell_type": "code",
   "execution_count": 44,
   "id": "1e34fac4",
   "metadata": {},
   "outputs": [],
   "source": [
    "nplayers, games, PA, PB, RA, RB, win, vnplays, vnwins = load_data('valid.csv')"
   ]
  },
  {
   "cell_type": "code",
   "execution_count": 45,
   "id": "e6c67ab6",
   "metadata": {},
   "outputs": [
    {
     "name": "stdout",
     "output_type": "stream",
     "text": [
      "number of players 999\n",
      "number of games 4771\n",
      "number of race of PA 4771\n"
     ]
    }
   ],
   "source": [
    "print('number of players', nplayers)\n",
    "print('number of games', games)\n",
    "print('number of race of PA', len(RA))"
   ]
  },
  {
   "cell_type": "code",
   "execution_count": 46,
   "id": "f47b226c",
   "metadata": {},
   "outputs": [],
   "source": [
    "bi_loss = 0.\n",
    "\n",
    "for i in range(games):\n",
    "    real_prob = win[i] #real win-lose situation\n",
    "    if RA[i] == 0:\n",
    "        if RB[i] == 0:\n",
    "            predicted_prob = logit( skill_data['scale']*(samples['skillZ'][:,(PA[i]-1)]-samples['skillZ'][:,(PB[i]-1)]) ).mean() #predicted win rate  \n",
    "            bi_loss += np.logical_xor(real_prob, predicted_prob > 0.5) \n",
    "        elif RB[i] == 1:\n",
    "            predicted_prob = logit( skill_data['scale']*(samples['skillZ'][:,(PA[i]-1)]-samples['skillP'][:,(PB[i]-1)]) ).mean() \n",
    "            bi_loss += np.logical_xor(real_prob, predicted_prob > 0.5) \n",
    "        elif RB[i] == 2:\n",
    "            predicted_prob = logit( skill_data['scale']*(samples['skillZ'][:,(PA[i]-1)]-samples['skillT'][:,(PB[i]-1)]) ).mean() \n",
    "            bi_loss += np.logical_xor(real_prob, predicted_prob > 0.5) \n",
    "            \n",
    "    elif RA[i] == 1:\n",
    "        if RB[i] == 0:\n",
    "            predicted_prob = logit( skill_data['scale']*(samples['skillP'][:,(PA[i]-1)]-samples['skillZ'][:,(PB[i]-1)]) ).mean() \n",
    "            bi_loss += np.logical_xor(real_prob, predicted_prob > 0.5) \n",
    "        elif RB[i] == 1:\n",
    "            predicted_prob = logit( skill_data['scale']*(samples['skillP'][:,(PA[i]-1)]-samples['skillP'][:,(PB[i]-1)]) ).mean() \n",
    "            bi_loss += np.logical_xor(real_prob, predicted_prob > 0.5) \n",
    "        elif RB[i] == 2:\n",
    "            predicted_prob = logit( skill_data['scale']*(samples['skillP'][:,(PA[i]-1)]-samples['skillT'][:,(PB[i]-1)]) ).mean() \n",
    "            bi_loss += np.logical_xor(real_prob, predicted_prob > 0.5) \n",
    "            \n",
    "    elif RA[i] == 2:\n",
    "        if RB[i] == 0:\n",
    "            predicted_prob = logit( skill_data['scale']*(samples['skillT'][:,(PA[i]-1)]-samples['skillZ'][:,(PB[i]-1)]) ).mean() \n",
    "            bi_loss += np.logical_xor(real_prob, predicted_prob >= 0.5) \n",
    "        elif RB[i] == 1:\n",
    "            predicted_prob = logit( skill_data['scale']*(samples['skillT'][:,(PA[i]-1)]-samples['skillP'][:,(PB[i]-1)]) ).mean() \n",
    "            bi_loss += np.logical_xor(real_prob, predicted_prob >= 0.5) \n",
    "        elif RB[i] == 2:\n",
    "            predicted_prob = logit( skill_data['scale']*(samples['skillT'][:,(PA[i]-1)]-samples['skillT'][:,(PB[i]-1)]) ).mean()\n",
    "            bi_loss += np.logical_xor(real_prob, predicted_prob >= 0.5) \n",
    "\n",
    "bi_loss /= games"
   ]
  },
  {
   "cell_type": "code",
   "execution_count": 47,
   "id": "6763059b",
   "metadata": {},
   "outputs": [
    {
     "name": "stdout",
     "output_type": "stream",
     "text": [
      "0.4514776776357158\n"
     ]
    }
   ],
   "source": [
    "print(bi_loss)"
   ]
  },
  {
   "cell_type": "code",
   "execution_count": null,
   "id": "c9164013",
   "metadata": {},
   "outputs": [],
   "source": []
  },
  {
   "cell_type": "code",
   "execution_count": null,
   "id": "bb5ea34d",
   "metadata": {},
   "outputs": [],
   "source": []
  }
 ],
 "metadata": {
  "kernelspec": {
   "display_name": "Python 3 (ipykernel)",
   "language": "python",
   "name": "python3"
  },
  "language_info": {
   "codemirror_mode": {
    "name": "ipython",
    "version": 3
   },
   "file_extension": ".py",
   "mimetype": "text/x-python",
   "name": "python",
   "nbconvert_exporter": "python",
   "pygments_lexer": "ipython3",
   "version": "3.9.7"
  }
 },
 "nbformat": 4,
 "nbformat_minor": 5
}
