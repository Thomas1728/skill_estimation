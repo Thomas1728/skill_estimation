{
 "cells": [
  {
   "cell_type": "code",
   "execution_count": 6,
   "id": "870e24ca",
   "metadata": {},
   "outputs": [],
   "source": [
    "import numpy as np\n",
    "import pystan\n",
    "import matplotlib.pyplot as plt\n",
    "%matplotlib inline"
   ]
  },
  {
   "cell_type": "code",
   "execution_count": 7,
   "id": "d0f4c9ed",
   "metadata": {},
   "outputs": [],
   "source": [
    "skill_model = \"\"\"\n",
    "data {\n",
    "  int<lower=1> N;             // Total number of players\n",
    "  int<lower=1> E;             // number of games\n",
    "  real<lower=0> scale;        // scale value for probability computation\n",
    "  int<lower=0,upper=1> win[E]; // PA wins vs PB\n",
    "  int PA[E];                  // player info between each game\n",
    "  int PB[E];                  // \n",
    "  int RA[E];                  // player's race between each game\n",
    "  int RB[E];                  // \n",
    "  \n",
    "}\n",
    "parameters {\n",
    "  vector [N] skillZ;           // one player may use different races\n",
    "  vector [N] skillP;           // the result may various acoording to different races\n",
    "  vector [N] skillT; \n",
    "}\n",
    "\n",
    "model{\n",
    "  for (i in 1:N){ skillZ[i]~normal(0,3); skillP[i]~normal(0,3); skillT[i]~normal(0,3); }\n",
    "  \n",
    "  for (i in 1:E){\n",
    "    if (RA[i] == 0){\n",
    "        if (RB[i] == 0){\n",
    "            win[i] ~ bernoulli_logit( (scale)*(skillZ[PA[i]]-skillZ[PB[i]]) );}\n",
    "        else if (RB[i] == 1){\n",
    "            win[i] ~ bernoulli_logit( (scale)*(skillZ[PA[i]]-skillP[PB[i]]) );}\n",
    "        else if (RB[i] == 2){\n",
    "            win[i] ~ bernoulli_logit( (scale)*(skillZ[PA[i]]-skillT[PB[i]]) );}}\n",
    "            \n",
    "    else if (RA[i] == 1){\n",
    "        if (RB[i] == 0){\n",
    "            win[i] ~ bernoulli_logit( (scale)*(skillP[PA[i]]-skillZ[PB[i]]) );}\n",
    "        else if (RB[i] == 1){\n",
    "            win[i] ~ bernoulli_logit( (scale)*(skillP[PA[i]]-skillP[PB[i]]) );}\n",
    "        else if (RB[i] == 2){\n",
    "            win[i] ~ bernoulli_logit( (scale)*(skillP[PA[i]]-skillT[PB[i]]) );}}\n",
    "            \n",
    "    else if (RA[i] == 2){\n",
    "        if (RB[i] == 0){\n",
    "            win[i] ~ bernoulli_logit( (scale)*(skillT[PA[i]]-skillZ[PB[i]]) );}\n",
    "        else if (RB[i] == 1){\n",
    "            win[i] ~ bernoulli_logit( (scale)*(skillT[PA[i]]-skillP[PB[i]]) );}\n",
    "        else if (RB[i] == 2){\n",
    "            win[i] ~ bernoulli_logit( (scale)*(skillT[PA[i]]-skillT[PB[i]]) );}}\n",
    "  }   // win probability is a logit function of skill difference\n",
    "}\n",
    "\"\"\""
   ]
  },
  {
   "cell_type": "code",
   "execution_count": 8,
   "id": "726a0cc1",
   "metadata": {},
   "outputs": [
    {
     "name": "stderr",
     "output_type": "stream",
     "text": [
      "INFO:pystan:COMPILING THE C++ CODE FOR MODEL anon_model_991df902cb5e9dd38bebf52a4b126a89 NOW.\n"
     ]
    }
   ],
   "source": [
    "import pickle\n",
    "# try:     # load it if already compiled\n",
    "#     sm = pickle.load(open('skill_race.pkl', 'rb'))\n",
    "# except:  # ow, compile and save compiled model\n",
    "sm = pystan.StanModel(model_code = skill_model)\n",
    "with open('skill_race.pkl', 'wb') as f: pickle.dump(sm, f)"
   ]
  },
  {
   "cell_type": "code",
   "execution_count": 9,
   "id": "3385510c",
   "metadata": {},
   "outputs": [],
   "source": [
    "def load_data_train(path):\n",
    "    with open(path, encoding='utf-8') as f: lines = f.read().split('\\n')\n",
    "\n",
    "    p = 0;playerid = {};\n",
    "    for i in range(len(lines)):\n",
    "        csv = lines[i].split(',')\n",
    "        if len(csv) != 10: continue;   # parse error or blank line\n",
    "        player0,player1 = csv[1],csv[4]\n",
    "        if player0 not in playerid: playerid[player0]=p;p+=1\n",
    "        if player1 not in playerid: playerid[player1]=p;p+=1\n",
    "\n",
    "    nplayers = len(playerid)\n",
    "    games = 0\n",
    "    \n",
    "    # Sparsifying parameters (discard some training examples):\n",
    "    pKeep = 1.0   # fraction of edges to consider (immed. throw out 1-p edges)\n",
    "    nEdge = 3     # try to keep nEdge opponents per player (may be more; asymmetric)\n",
    "    nKeep = 5     # keep at most nKeep games per opponent pairs (play each other multiple times)\n",
    "\n",
    "    nplays, nwins = np.zeros( (nplayers,nplayers) ), np.zeros( (nplayers,nplayers) );\n",
    "    PA, PB, win, RA, RB = [], [], [], [], []\n",
    "    \n",
    "    race = {'P':0, 'T':1, 'Z':2}\n",
    "    for i in range(len(lines)):\n",
    "        csv = lines[i].split(',')\n",
    "        if len(csv) != 10: continue;   # parse error or blank line\n",
    "        a,b = playerid[csv[1]],playerid[csv[4]]\n",
    "        aw,bw = csv[2]=='[winner]',csv[5]=='[winner]'\n",
    "        ra, rb = csv[6], csv[7]\n",
    "        if ra == 'R' or rb == 'R': continue;\n",
    "        if (np.random.rand() < pKeep):\n",
    "            if (nplays[a,b] < nKeep) and ( ((nplays[a,:]>0).sum() < nEdge) or ((nplays[:,b]>0).sum() < nEdge) ):\n",
    "                nplays[a,b] += 1; nplays[b,a]+=1;nwins[a,b] += aw; nwins[b,a] += bw; PA.append(a+1); PB.append(b+1);games+=1\n",
    "                if aw:\n",
    "                    win.append(1)\n",
    "                else:\n",
    "                    win.append(0)\n",
    "                \n",
    "                if ra == 'Z':\n",
    "                    RA.append(0)\n",
    "                elif ra == 'P':\n",
    "                    RA.append(1)\n",
    "                elif ra == 'T':\n",
    "                    RA.append(2)\n",
    "                    \n",
    "                if rb == 'Z':\n",
    "                    RB.append(0)\n",
    "                elif rb == 'P':\n",
    "                    RB.append(1)\n",
    "                elif rb == 'T':\n",
    "                    RB.append(2)\n",
    "\n",
    "    return nplayers, games, PA, PB, RA, RB, win, nplays, nwins"
   ]
  },
  {
   "cell_type": "code",
   "execution_count": 10,
   "id": "d3d151f9",
   "metadata": {},
   "outputs": [],
   "source": [
    "nplayers, games, PA, PB, RA, RB, win, nplays, nwins = load_data_train('train.csv')"
   ]
  },
  {
   "cell_type": "code",
   "execution_count": 11,
   "id": "9aa67bcd",
   "metadata": {},
   "outputs": [
    {
     "name": "stdout",
     "output_type": "stream",
     "text": [
      "summary: \n",
      "# players 999\n",
      "# games 4678\n",
      "player A 4678\n",
      "win 4678\n",
      "raceA 4678\n",
      "raceB 4678\n"
     ]
    }
   ],
   "source": [
    "print('summary: ')\n",
    "print('# players', nplayers)\n",
    "print('# games', games)\n",
    "print('player A', len(PA))\n",
    "print('win', len(win))\n",
    "print('raceA', len(RA))\n",
    "print('raceB', len(RB))"
   ]
  },
  {
   "cell_type": "code",
   "execution_count": 12,
   "id": "df52176e",
   "metadata": {},
   "outputs": [],
   "source": [
    "skill_data = {\n",
    "    'N': nplayers,\n",
    "    'E': games,\n",
    "    'scale': 0.3,\n",
    "    'win':win,\n",
    "    'PA': PA,\n",
    "    'PB': PB,\n",
    "    'RA': RA,\n",
    "    'RB': RB\n",
    "}"
   ]
  },
  {
   "cell_type": "code",
   "execution_count": 15,
   "id": "bac62b29",
   "metadata": {},
   "outputs": [
    {
     "name": "stderr",
     "output_type": "stream",
     "text": [
      "WARNING:pystan:Maximum (flat) parameter count (1000) exceeded: skipping diagnostic tests for n_eff and Rhat.\n",
      "To run all diagnostics call pystan.check_hmc_diagnostics(fit)\n"
     ]
    }
   ],
   "source": [
    "fit = sm.sampling(data=skill_data, iter=1000, chains=4, control={'max_treedepth': 20})"
   ]
  },
  {
   "cell_type": "code",
   "execution_count": 16,
   "id": "d5d5ef95",
   "metadata": {},
   "outputs": [],
   "source": [
    "samples = fit.extract()"
   ]
  },
  {
   "cell_type": "code",
   "execution_count": 17,
   "id": "37d75667",
   "metadata": {},
   "outputs": [
    {
     "data": {
      "text/plain": [
       "OrderedDict([('skillZ',\n",
       "              array([[-1.04369011,  2.49034347,  7.72757056, ..., -3.59094636,\n",
       "                      -4.33113435,  1.91306336],\n",
       "                     [ 1.58490502, -3.53999232, 10.85916225, ..., -2.98336798,\n",
       "                      -3.35985458,  2.2339261 ],\n",
       "                     [-1.33736422,  2.28311497, 10.41871784, ..., -5.34319065,\n",
       "                      -4.4041443 , -1.00773383],\n",
       "                     ...,\n",
       "                     [-0.10844806,  1.02525319,  8.50297368, ..., -1.02805634,\n",
       "                       3.32940709,  3.16862455],\n",
       "                     [-0.18954174,  2.59445652,  7.25754657, ..., -3.65008953,\n",
       "                      -4.22417414, -3.12965132],\n",
       "                     [-0.15137722,  1.26812582,  3.63545775, ..., -6.82606398,\n",
       "                       9.36796995,  1.78350764]])),\n",
       "             ('skillP',\n",
       "              array([[ 4.54922377,  1.77998196, -2.43677773, ..., -0.28078347,\n",
       "                       0.95094166, -0.77351618],\n",
       "                     [ 4.21261963,  6.37859771,  2.23998716, ..., -5.93838229,\n",
       "                      -0.57513468, -1.27298989],\n",
       "                     [ 4.47233573,  6.6201311 , -3.63406337, ..., -0.94294459,\n",
       "                       0.03199206,  0.65890603],\n",
       "                     ...,\n",
       "                     [ 4.85842515,  6.03735668, -0.7806254 , ..., -6.39235083,\n",
       "                      -0.16441696, -2.21741161],\n",
       "                     [ 4.04756008,  5.09000367, -0.23913096, ..., -2.22181474,\n",
       "                      -1.04827018, -5.67048202],\n",
       "                     [ 4.61173399,  5.45603981, -3.01057841, ...,  8.51778664,\n",
       "                      -3.40652618, -2.54152674]])),\n",
       "             ('skillT',\n",
       "              array([[ 0.20245825,  3.19884851, -1.7864099 , ..., -0.78376891,\n",
       "                      -0.33983003,  2.12103791],\n",
       "                     [ 1.91825604,  4.98852197, -0.33118329, ...,  2.99409537,\n",
       "                      -2.23156885, -2.03568816],\n",
       "                     [-3.15883333, -2.95671726, -3.89610987, ..., -0.37825721,\n",
       "                       1.74326261,  0.36247013],\n",
       "                     ...,\n",
       "                     [-2.25709261, -1.20550256, -2.55838637, ..., -2.97462178,\n",
       "                       2.80734723, -0.6072245 ],\n",
       "                     [-1.34842699,  1.00020074, -0.85546999, ..., -3.60309801,\n",
       "                       1.5766521 , -1.74488661],\n",
       "                     [ 3.89995838,  4.41599641,  4.22167707, ..., -3.59340108,\n",
       "                       1.93364366, -2.72893665]])),\n",
       "             ('lp__',\n",
       "              array([-3432.5237433 , -3558.19766552, -3550.17523917, ...,\n",
       "                     -3489.47563577, -3474.04421651, -3533.34240525]))])"
      ]
     },
     "execution_count": 17,
     "metadata": {},
     "output_type": "execute_result"
    }
   ],
   "source": [
    "samples"
   ]
  },
  {
   "cell_type": "code",
   "execution_count": 22,
   "id": "d14973a2",
   "metadata": {},
   "outputs": [
    {
     "name": "stdout",
     "output_type": "stream",
     "text": [
      "0.2404427721690058\n"
     ]
    }
   ],
   "source": [
    "# Player 0 vs Player 1 prediction:\n",
    "def logit(z): return 1./(1.+np.exp(-z))\n",
    "\n",
    "# Use our model's win probability function (logistic of scaled difference)\n",
    "#  using the predicted skill difference for each sample:\n",
    "\n",
    "prob = logit( skill_data['scale']*(samples['skillT'][:,0]-samples['skillP'][:,1]) ).mean()\n",
    "\n",
    "print(prob)"
   ]
  },
  {
   "cell_type": "code",
   "execution_count": 19,
   "id": "c561f3c0",
   "metadata": {},
   "outputs": [],
   "source": [
    "with open('skill_race_depth-200.pkl', 'wb') as f: pickle.dump(samples, f)"
   ]
  },
  {
   "cell_type": "code",
   "execution_count": 23,
   "id": "18169ec5",
   "metadata": {},
   "outputs": [],
   "source": [
    "def load_data_valid(path):\n",
    "    with open(path, encoding='utf-8') as f: lines = f.read().split('\\n')\n",
    "\n",
    "    p = 0;playerid = {};\n",
    "    for i in range(len(lines)):\n",
    "        csv = lines[i].split(',')\n",
    "        if len(csv) != 10: continue;   # parse error or blank line\n",
    "        player0,player1 = csv[1],csv[4]\n",
    "        if player0 not in playerid: playerid[player0]=p;p+=1\n",
    "        if player1 not in playerid: playerid[player1]=p;p+=1\n",
    "\n",
    "    nplayers = len(playerid)\n",
    "    games = 0\n",
    "    \n",
    "    # Sparsifying parameters (discard some training examples):\n",
    "    pKeep = 1.0   # fraction of edges to consider (immed. throw out 1-p edges)\n",
    "    nEdge = 3     # try to keep nEdge opponents per player (may be more; asymmetric)\n",
    "    nKeep = 5     # keep at most nKeep games per opponent pairs (play each other multiple times)\n",
    "\n",
    "    nplays, nwins = np.zeros( (nplayers,nplayers) ), np.zeros( (nplayers,nplayers) );\n",
    "    PA, PB, win, RA, RB = [], [], [], [], []\n",
    "    for i in range(len(lines)):\n",
    "        csv = lines[i].split(',')\n",
    "        if len(csv) != 10: continue;   # parse error or blank line\n",
    "        a,b = playerid[csv[1]],playerid[csv[4]]\n",
    "        aw,bw = csv[2]=='[winner]',csv[5]=='[winner]'\n",
    "        ra, rb = csv[6], csv[7]\n",
    "        if ra == 'R' or rb == 'R': continue;\n",
    "        if (np.random.rand() < pKeep):\n",
    "            if (nplays[a,b] < nKeep) and ( ((nplays[a,:]>0).sum() < nEdge) or ((nplays[:,b]>0).sum() < nEdge) ):\n",
    "                nplays[a,b] += 1; nplays[b,a]+=1;nwins[a,b] += aw; nwins[b,a] += bw; PA.append(a+1); PB.append(b+1);games+=1\n",
    "                if aw:\n",
    "                    win.append(1)\n",
    "                else:\n",
    "                    win.append(0)\n",
    "                \n",
    "                if ra == 'Z':\n",
    "                    RA.append(0)\n",
    "                elif ra == 'P':\n",
    "                    RA.append(1)\n",
    "                elif ra == 'T':\n",
    "                    RA.append(2)\n",
    "                    \n",
    "                if rb == 'Z':\n",
    "                    RB.append(0)\n",
    "                elif rb == 'P':\n",
    "                    RB.append(1)\n",
    "                elif rb == 'T':\n",
    "                    RB.append(2)\n",
    "\n",
    "    return nplayers, games, PA, PB, RA, RB, win, nplays, nwins"
   ]
  },
  {
   "cell_type": "code",
   "execution_count": 24,
   "id": "1a4412e3",
   "metadata": {},
   "outputs": [],
   "source": [
    "nplayers, games, PA, PB, RA, RB, win, vnplays, vnwins = load_data_valid('valid.csv')"
   ]
  },
  {
   "cell_type": "code",
   "execution_count": 26,
   "id": "cd9efe37",
   "metadata": {},
   "outputs": [
    {
     "name": "stdout",
     "output_type": "stream",
     "text": [
      "summary: \n",
      "# players 999\n",
      "# games 4771\n",
      "4771\n"
     ]
    }
   ],
   "source": [
    "print('summary: ')\n",
    "print('# players', nplayers)\n",
    "print('# games', games)\n",
    "\n",
    "print(len(RA))"
   ]
  },
  {
   "cell_type": "code",
   "execution_count": null,
   "id": "7f59b7ef",
   "metadata": {},
   "outputs": [],
   "source": [
    "def check(real_prob)"
   ]
  },
  {
   "cell_type": "code",
   "execution_count": 33,
   "id": "32ecc6f3",
   "metadata": {},
   "outputs": [],
   "source": [
    "vnplays = vnplays.astype(np.int64)\n",
    "vnwins = vnwins.astype(np.int64)\n",
    "\n",
    "bi_loss = 0.\n",
    "for i in range(games):\n",
    "    if RA[i] == 0:\n",
    "        if RB[i] == 0:\n",
    "            real_prob = win[i] #real win rate\n",
    "            predicted_prob = logit( skill_data['scale']*(samples['skillZ'][:,(PA[i]-1)]-samples['skillZ'][:,(PB[i]-1)]) ).mean() #predicted win rate  \n",
    "            bi_loss += np.logical_xor(real_prob, predicted_prob > 0.5) \n",
    "        elif RB[i] == 1:\n",
    "            real_prob = win[i] #real win rate\n",
    "            predicted_prob = logit( skill_data['scale']*(samples['skillZ'][:,(PA[i]-1)]-samples['skillP'][:,(PB[i]-1)]) ).mean() #predicted win rate\n",
    "            bi_loss += np.logical_xor(real_prob, predicted_prob > 0.5) \n",
    "        elif RB[i] == 2:\n",
    "            real_prob = win[i] #real win rate\n",
    "            predicted_prob = logit( skill_data['scale']*(samples['skillZ'][:,(PA[i]-1)]-samples['skillT'][:,(PB[i]-1)]) ).mean() #predicted win rate\n",
    "            bi_loss += np.logical_xor(real_prob, predicted_prob > 0.5) \n",
    "            \n",
    "    elif RA[i] == 1:\n",
    "        if RB[i] == 0:\n",
    "            real_prob = win[i] #real win rate\n",
    "            predicted_prob = logit( skill_data['scale']*(samples['skillP'][:,(PA[i]-1)]-samples['skillZ'][:,(PB[i]-1)]) ).mean() #predicted win rate\n",
    "            bi_loss += np.logical_xor(real_prob, predicted_prob > 0.5) \n",
    "        elif RB[i] == 1:\n",
    "            real_prob = win[i] #real win rate\n",
    "            predicted_prob = logit( skill_data['scale']*(samples['skillP'][:,(PA[i]-1)]-samples['skillP'][:,(PB[i]-1)]) ).mean() #predicted win rate\n",
    "            bi_loss += np.logical_xor(real_prob, predicted_prob > 0.5) \n",
    "        elif RB[i] == 2:\n",
    "            real_prob = win[i] #real win rate\n",
    "            predicted_prob = logit( skill_data['scale']*(samples['skillP'][:,(PA[i]-1)]-samples['skillT'][:,(PB[i]-1)]) ).mean() #predicted win rate\n",
    "            bi_loss += np.logical_xor(real_prob, predicted_prob > 0.5) \n",
    "            \n",
    "    elif RA[i] == 2:\n",
    "        if RB[i] == 0:\n",
    "            real_prob = win[i] #real win rate\n",
    "            predicted_prob = logit( skill_data['scale']*(samples['skillT'][:,(PA[i]-1)]-samples['skillZ'][:,(PB[i]-1)]) ).mean() #predicted win rate\n",
    "            bi_loss += np.logical_xor(real_prob, predicted_prob >= 0.5) \n",
    "        elif RB[i] == 1:\n",
    "            real_prob = win[i] #real win rate\n",
    "            predicted_prob = logit( skill_data['scale']*(samples['skillT'][:,(PA[i]-1)]-samples['skillP'][:,(PB[i]-1)]) ).mean() #predicted win rate\n",
    "            bi_loss += np.logical_xor(real_prob, predicted_prob >= 0.5) \n",
    "        elif RB[i] == 2:\n",
    "            real_prob = win[i] #real win rate\n",
    "            predicted_prob = logit( skill_data['scale']*(samples['skillT'][:,(PA[i]-1)]-samples['skillT'][:,(PB[i]-1)]) ).mean() #predicted win rate\n",
    "            bi_loss += np.logical_xor(real_prob, predicted_prob >= 0.5) \n",
    "\n",
    "bi_loss /= games"
   ]
  },
  {
   "cell_type": "code",
   "execution_count": 34,
   "id": "49918c15",
   "metadata": {},
   "outputs": [
    {
     "data": {
      "text/plain": [
       "0.4514776776357158"
      ]
     },
     "execution_count": 34,
     "metadata": {},
     "output_type": "execute_result"
    }
   ],
   "source": [
    "bi_loss"
   ]
  },
  {
   "cell_type": "code",
   "execution_count": null,
   "id": "bcf02313",
   "metadata": {},
   "outputs": [],
   "source": []
  },
  {
   "cell_type": "code",
   "execution_count": null,
   "id": "1f73e3a2",
   "metadata": {},
   "outputs": [],
   "source": []
  }
 ],
 "metadata": {
  "kernelspec": {
   "display_name": "Python 3 (ipykernel)",
   "language": "python",
   "name": "python3"
  },
  "language_info": {
   "codemirror_mode": {
    "name": "ipython",
    "version": 3
   },
   "file_extension": ".py",
   "mimetype": "text/x-python",
   "name": "python",
   "nbconvert_exporter": "python",
   "pygments_lexer": "ipython3",
   "version": "3.9.7"
  }
 },
 "nbformat": 4,
 "nbformat_minor": 5
}
