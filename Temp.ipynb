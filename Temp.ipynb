{
 "cells": [
  {
   "cell_type": "markdown",
   "id": "5e35c33c",
   "metadata": {},
   "source": [
    "Hi,\n",
    "\n",
    "I found the setup of pystan a little tricky. It needs a compiler. If you haven't set it up yet, I think you can find this link useful.\n",
    "\n",
    "https://pystan2.readthedocs.io/en/latest/windows.html\n",
    "\n",
    "In this tutorial, the difficulty is finding distutils.cfg. If your setting is default, I think you will find it in \\anaconda3\\Lib\\distutils.\n",
    "\n",
    "\n",
    "The following is our model and data that I have initially sorted out based on the professor's documents. According to the professor's prompt, I think we need the following four tasks：\n",
    "\n",
    "    1. Compare the ability of your model to predict the winner of new (unseen) games to simple approaches, such as fraction of games won, number of games played, etc.\n",
    "\n",
    "    2. Try evaluating how many games are required to accurately predict the players' skill levels / win probability by decreasing the amount of training data available and observing the performance. \n",
    "    \n",
    "    3. Try evaluating how quickly you can determine a new players' skill by either random game choices or carefully chosen games (matched based on estimated skill level).  You can leave a player out of the inference process entirely, then slowly add their games in and see how quickly you are able to learn their relative position.\n",
    "    \n",
    "    4. Experiment with learning a more complex model, for example taking into account game features (player's selected character) or additional latent scores (such as offensive and defensive skill) along with a correspondingly more elaborate probability of win function.\n",
    "    \n",
    "    \n",
    " I believe we need find a way to evaluate our model. May be the prediction of loss?"
   ]
  },
  {
   "cell_type": "code",
   "execution_count": 64,
   "id": "f90f2184",
   "metadata": {},
   "outputs": [],
   "source": [
    "import numpy as np\n",
    "import pystan\n",
    "import matplotlib.pyplot as plt\n",
    "%matplotlib inline"
   ]
  },
  {
   "cell_type": "code",
   "execution_count": 65,
   "id": "9341bc31",
   "metadata": {},
   "outputs": [],
   "source": [
    "skill_model = \"\"\"\n",
    "data {\n",
    "  int<lower=1> N;             # Total number of players\n",
    "  int<lower=1> E;             # number of games\n",
    "  real<lower=0> scale;        # scale value for probability computation\n",
    "  int<lower=0,upper=1> win[E]; # PA wins vs PB\n",
    "  int PA[E];                  # player info between each game\n",
    "  int PB[E];                  # \n",
    "}\n",
    "parameters {\n",
    "  vector [N] skill;           # skill values for each player\n",
    "}\n",
    "\n",
    "model{\n",
    "  for (i in 1:N){ skill[i]~normal(0,3); }\n",
    "  for (i in 1:E){\n",
    "    win[i] ~ bernoulli_logit( (scale)*(skill[PA[i]]-skill[PB[i]]) );\n",
    "  }   # win probability is a logit function of skill difference\n",
    "}\n",
    "\"\"\""
   ]
  },
  {
   "cell_type": "code",
   "execution_count": 68,
   "id": "040f1c80",
   "metadata": {},
   "outputs": [
    {
     "name": "stderr",
     "output_type": "stream",
     "text": [
      "INFO:pystan:COMPILING THE C++ CODE FOR MODEL anon_model_c78eee36111c513d03cc709b3fedf086 NOW.\n"
     ]
    }
   ],
   "source": [
    "import pickle\n",
    "try:     # load it if already compiled\n",
    "    sm = pickle.load(open('skill_model.pkl', 'rb'))\n",
    "except:  # ow, compile and save compiled model\n",
    "    sm = pystan.StanModel(model_code = skill_model)\n",
    "    with open('skill_model.pkl', 'wb') as f: pickle.dump(sm, f)"
   ]
  },
  {
   "cell_type": "code",
   "execution_count": 57,
   "id": "8732c802",
   "metadata": {},
   "outputs": [],
   "source": [
    "def load_data(path):\n",
    "    with open(path, encoding='utf-8') as f: lines = f.read().split('\\n')\n",
    "\n",
    "    p = 0;playerid = {};\n",
    "    for i in range(len(lines)):\n",
    "        csv = lines[i].split(',')\n",
    "        if len(csv) != 10: continue;   # parse error or blank line\n",
    "        player0,player1 = csv[1],csv[4]\n",
    "        if player0 not in playerid: playerid[player0]=p;p+=1\n",
    "        if player1 not in playerid: playerid[player1]=p;p+=1\n",
    "\n",
    "    nplayers = len(playerid)\n",
    "    games = 0\n",
    "    \n",
    "    # Sparsifying parameters (discard some training examples):\n",
    "    pKeep = 1.0   # fraction of edges to consider (immed. throw out 1-p edges)\n",
    "    nEdge = 3     # try to keep nEdge opponents per player (may be more; asymmetric)\n",
    "    nKeep = 5     # keep at most nKeep games per opponent pairs (play each other multiple times)\n",
    "\n",
    "    nplays = np.zeros( (nplayers,nplayers) )\n",
    "    PA, PB, win = [], [], []\n",
    "    for i in range(len(lines)):\n",
    "        csv = lines[i].split(',')\n",
    "        if len(csv) != 10: continue;   # parse error or blank line\n",
    "        a,b = playerid[csv[1]],playerid[csv[4]]\n",
    "        aw,bw = csv[2]=='[winner]',csv[5]=='[winner]'\n",
    "        if (np.random.rand() < pKeep):\n",
    "            if (nplays[a,b] < nKeep) and ( ((nplays[a,:]>0).sum() < nEdge) or ((nplays[:,b]>0).sum() < nEdge) ):\n",
    "                nplays[a,b] += 1; nplays[b,a]+=1; PA.append(a+1); PB.append(b+1);games+=1\n",
    "                if aw:\n",
    "                    win.append(1)\n",
    "                else:\n",
    "                    win.append(0)\n",
    "\n",
    "\n",
    "    return nplayers, games, PA, PB, win"
   ]
  },
  {
   "cell_type": "code",
   "execution_count": 58,
   "id": "085193d4",
   "metadata": {},
   "outputs": [],
   "source": [
    "nplayers, games, PA, PB, win = load_data('train.csv')"
   ]
  },
  {
   "cell_type": "code",
   "execution_count": 59,
   "id": "898793c4",
   "metadata": {},
   "outputs": [
    {
     "name": "stdout",
     "output_type": "stream",
     "text": [
      "summary: \n",
      "# players 999\n",
      "# games 4677\n",
      "player A [1, 1, 1, 1, 1, 1, 1, 1, 1, 1]\n",
      "player B [2, 3, 4, 5, 6, 7, 8, 9, 10, 9]\n",
      "win [0, 0, 0, 0, 1, 1, 1, 0, 0, 1]\n"
     ]
    }
   ],
   "source": [
    "print('summary: ')\n",
    "print('# players', nplayers)\n",
    "print('# games', games)\n",
    "print('player A', PA[:10])\n",
    "print('player B', PB[:10])\n",
    "print('win', win[:10])"
   ]
  },
  {
   "cell_type": "code",
   "execution_count": 69,
   "id": "94de32e6",
   "metadata": {},
   "outputs": [],
   "source": [
    "skill_data = {\n",
    "    'N': nplayers,\n",
    "    'E': games,\n",
    "    'scale': 0.3,\n",
    "    'win':win,\n",
    "    'PA': PA,\n",
    "    'PB': PB\n",
    "}"
   ]
  },
  {
   "cell_type": "code",
   "execution_count": 70,
   "id": "0d6f95ed",
   "metadata": {},
   "outputs": [],
   "source": [
    "fit = sm.sampling(data=skill_data, iter=1000, chains=4)"
   ]
  },
  {
   "cell_type": "code",
   "execution_count": 71,
   "id": "05a4e66f",
   "metadata": {},
   "outputs": [],
   "source": [
    "samples = fit.extract()"
   ]
  },
  {
   "cell_type": "code",
   "execution_count": 72,
   "id": "b0c72475",
   "metadata": {},
   "outputs": [
    {
     "data": {
      "text/plain": [
       "(2000, 999)"
      ]
     },
     "execution_count": 72,
     "metadata": {},
     "output_type": "execute_result"
    }
   ],
   "source": [
    "samples['skill'].shape"
   ]
  },
  {
   "cell_type": "code",
   "execution_count": 73,
   "id": "657a3d67",
   "metadata": {},
   "outputs": [
    {
     "name": "stdout",
     "output_type": "stream",
     "text": [
      "0.4911748826634101\n"
     ]
    }
   ],
   "source": [
    "# Player 0 vs Player 1 prediction:\n",
    "def logit(z): return 1./(1.+np.exp(-z))\n",
    "\n",
    "# Use our model's win probability function (logistic of scaled difference)\n",
    "#  using the predicted skill difference for each sample:\n",
    "prob = logit( skill_data['scale']*(samples['skill'][:,0]-samples['skill'][:,1]) ).mean()\n",
    "\n",
    "print(prob)"
   ]
  },
  {
   "cell_type": "code",
   "execution_count": null,
   "id": "ffa5d52d",
   "metadata": {},
   "outputs": [],
   "source": []
  }
 ],
 "metadata": {
  "kernelspec": {
   "display_name": "Python 3 (ipykernel)",
   "language": "python",
   "name": "python3"
  },
  "language_info": {
   "codemirror_mode": {
    "name": "ipython",
    "version": 3
   },
   "file_extension": ".py",
   "mimetype": "text/x-python",
   "name": "python",
   "nbconvert_exporter": "python",
   "pygments_lexer": "ipython3",
   "version": "3.9.7"
  }
 },
 "nbformat": 4,
 "nbformat_minor": 5
}
