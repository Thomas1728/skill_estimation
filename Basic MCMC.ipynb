{
 "cells": [
  {
   "cell_type": "markdown",
   "id": "5e35c33c",
   "metadata": {},
   "source": [
    "Hi,\n",
    "\n",
    "I found the setup of pystan a little tricky. It needs a compiler. If you haven't set it up yet, I think you can find this link useful.\n",
    "\n",
    "https://pystan2.readthedocs.io/en/latest/windows.html\n",
    "\n",
    "In this tutorial, the difficulty is finding distutils.cfg. If your setting is default, I think you will find it in \\anaconda3\\Lib\\distutils.\n",
    "\n",
    "\n",
    "The following is our model and data that I have initially sorted out based on the professor's documents. According to the professor's prompt, I think we need the following three tasks：\n",
    "\n",
    "    1. Compare the ability of your model to predict the winner of new (unseen) games to simple approaches, such as fraction of games won, number of games played, etc.\n",
    "    \n",
    "    2. Try evaluating how many games are required to accurately predict the players' skill levels / win probability by decreasing the amount of training data available and observing the performance. \n",
    "    \n",
    "    4. Experiment with learning a more complex model, for example taking into account game features (player's selected character) or additional latent scores (such as offensive and defensive skill) along with a correspondingly more elaborate probability of win function."
   ]
  },
  {
   "cell_type": "code",
   "execution_count": 1,
   "id": "f90f2184",
   "metadata": {},
   "outputs": [],
   "source": [
    "import numpy as np\n",
    "import pystan\n",
    "import matplotlib.pyplot as plt\n",
    "%matplotlib inline"
   ]
  },
  {
   "cell_type": "code",
   "execution_count": 2,
   "id": "9341bc31",
   "metadata": {},
   "outputs": [],
   "source": [
    "skill_model = \"\"\"\n",
    "data {\n",
    "  int<lower=1> N;             # Total number of players\n",
    "  int<lower=1> E;             # number of games\n",
    "  real<lower=0> scale;        # scale value for probability computation\n",
    "  int<lower=0,upper=1> win[E]; # PA wins vs PB\n",
    "  int PA[E];                  # player info between each game\n",
    "  int PB[E];                  # \n",
    "}\n",
    "parameters {\n",
    "  vector [N] skill;           # skill values for each player\n",
    "}\n",
    "\n",
    "model{\n",
    "  for (i in 1:N){ skill[i]~normal(0,3); }\n",
    "  for (i in 1:E){\n",
    "    win[i] ~ bernoulli_logit( (scale)*(skill[PA[i]]-skill[PB[i]]) );\n",
    "  }   # win probability is a logit function of skill difference\n",
    "}\n",
    "\"\"\""
   ]
  },
  {
   "cell_type": "code",
   "execution_count": 3,
   "id": "040f1c80",
   "metadata": {},
   "outputs": [],
   "source": [
    "import pickle\n",
    "# try:     # load it if already compiled\n",
    "#     sm = pickle.load(open('skill_model.pkl', 'rb'))\n",
    "# except:  # ow, compile and save compiled model\n",
    "sm = pystan.StanModel(model_code = skill_model)\n",
    "with open('skill_model.pkl', 'wb') as f: pickle.dump(sm, f)"
   ]
  },
  {
   "cell_type": "code",
   "execution_count": 49,
   "id": "8732c802",
   "metadata": {},
   "outputs": [],
   "source": [
    "def load_data(path):\n",
    "    with open(path, encoding='utf-8') as f: lines = f.read().split('\\n')\n",
    "\n",
    "    p = 0;playerid = {};\n",
    "    for i in range(len(lines)):\n",
    "        csv = lines[i].split(',')\n",
    "        if len(csv) != 10: continue;   # parse error or blank line\n",
    "        player0,player1 = csv[1],csv[4]\n",
    "        if player0 not in playerid: playerid[player0]=p;p+=1\n",
    "        if player1 not in playerid: playerid[player1]=p;p+=1\n",
    "\n",
    "    nplayers = len(playerid)\n",
    "    games = 0\n",
    "    \n",
    "    # Sparsifying parameters (discard some training examples):\n",
    "    pKeep = 1.0   # fraction of edges to consider (immed. throw out 1-p edges)\n",
    "    nEdge = 3     # try to keep nEdge opponents per player (may be more; asymmetric)\n",
    "    nKeep = 5     # keep at most nKeep games per opponent pairs (play each other multiple times)\n",
    "\n",
    "    nplays, nwins = np.zeros( (nplayers,nplayers) ), np.zeros( (nplayers,nplayers) );\n",
    "    PA, PB, win = [], [], []\n",
    "    for i in range(len(lines)):\n",
    "        csv = lines[i].split(',')\n",
    "        if len(csv) != 10: continue;   # parse error or blank line\n",
    "        a,b = playerid[csv[1]],playerid[csv[4]]\n",
    "        aw,bw = csv[2]=='[winner]',csv[5]=='[winner]'\n",
    "        if (np.random.rand() < pKeep):\n",
    "            if (nplays[a,b] < nKeep) and ( ((nplays[a,:]>0).sum() < nEdge) or ((nplays[:,b]>0).sum() < nEdge) ):\n",
    "                nplays[a,b] += 1; nplays[b,a]+=1;nwins[a,b] += aw; nwins[b,a] += bw; PA.append(a+1); PB.append(b+1);games+=1\n",
    "                if aw:\n",
    "                    win.append(1)\n",
    "                else:\n",
    "                    win.append(0)\n",
    "\n",
    "\n",
    "    return nplayers, games, PA, PB, win, nplays, nwins"
   ]
  },
  {
   "cell_type": "code",
   "execution_count": 50,
   "id": "085193d4",
   "metadata": {},
   "outputs": [],
   "source": [
    "nplayers, games, PA, PB, win, tnplays, tnwins = load_data('train.csv')"
   ]
  },
  {
   "cell_type": "code",
   "execution_count": 51,
   "id": "898793c4",
   "metadata": {},
   "outputs": [
    {
     "name": "stdout",
     "output_type": "stream",
     "text": [
      "number of players 999\n",
      "number of games 4677\n",
      "number of PA wins vs PB 4677\n",
      "number of PA 4677\n",
      "number of PB 4677\n"
     ]
    }
   ],
   "source": [
    "print('number of players', nplayers)\n",
    "print('number of games', games)\n",
    "print('number of PA wins vs PB', len(win))\n",
    "print('number of PA', len(PA))\n",
    "print('number of PB', len(PB))"
   ]
  },
  {
   "cell_type": "code",
   "execution_count": 26,
   "id": "94de32e6",
   "metadata": {},
   "outputs": [],
   "source": [
    "skill_data = {\n",
    "    'N': nplayers,\n",
    "    'E': games,\n",
    "    'scale': 0.3,\n",
    "    'win':win,\n",
    "    'PA': PA,\n",
    "    'PB': PB\n",
    "}"
   ]
  },
  {
   "cell_type": "code",
   "execution_count": 27,
   "id": "0d6f95ed",
   "metadata": {},
   "outputs": [],
   "source": [
    "fit = sm.sampling(data=skill_data, iter=1000, chains=4)"
   ]
  },
  {
   "cell_type": "code",
   "execution_count": 28,
   "id": "05a4e66f",
   "metadata": {},
   "outputs": [],
   "source": [
    "samples = fit.extract()"
   ]
  },
  {
   "cell_type": "code",
   "execution_count": 43,
   "id": "657a3d67",
   "metadata": {},
   "outputs": [
    {
     "name": "stdout",
     "output_type": "stream",
     "text": [
      "0.344822227002474\n"
     ]
    }
   ],
   "source": [
    "def logit(z): return 1./(1.+np.exp(-z))\n",
    "\n",
    "# randomly choose two players\n",
    "\n",
    "prob = logit( skill_data['scale']*(samples['skill'][:,996]-samples['skill'][:,997]) ).mean()\n",
    "\n",
    "print(prob)"
   ]
  },
  {
   "cell_type": "code",
   "execution_count": 52,
   "id": "ffa5d52d",
   "metadata": {},
   "outputs": [],
   "source": [
    "nplayers, games, PA, PB, win, vnplays, vnwins = load_data('valid.csv')"
   ]
  },
  {
   "cell_type": "code",
   "execution_count": 53,
   "id": "8ebbd868",
   "metadata": {},
   "outputs": [
    {
     "name": "stdout",
     "output_type": "stream",
     "text": [
      "number of players 999\n",
      "number of games 4768\n"
     ]
    }
   ],
   "source": [
    "print('number of players', nplayers)\n",
    "print('number of games', games)"
   ]
  },
  {
   "cell_type": "code",
   "execution_count": 36,
   "id": "eb0a8c70",
   "metadata": {},
   "outputs": [],
   "source": [
    "vnplays = vnplays.astype(np.int64)\n",
    "vnwins = vnwins.astype(np.int64)\n",
    "\n",
    "bi_loss = 0.\n",
    "for i in range(nplayers):\n",
    "    for j in range(i+1, nplayers):\n",
    "        if vnplays[i, j] != 0:\n",
    "            \n",
    "            real_prob = vnwins[i,j] / vnplays[i,j] #real win rate\n",
    "            predicted_prob = logit( skill_data['scale']*(samples['skill'][:,i]-samples['skill'][:,j]) ).mean() #predicted win rate\n",
    "        \n",
    "            bi_loss += np.logical_xor(real_prob > 0.5, predicted_prob > 0.5) \n",
    "            \n",
    "\n",
    "\n",
    "total = (vnplays > 0).sum()\n",
    "bi_loss /= total"
   ]
  },
  {
   "cell_type": "code",
   "execution_count": 37,
   "id": "7b7e12c2",
   "metadata": {},
   "outputs": [
    {
     "data": {
      "text/plain": [
       "0.1975266231535555"
      ]
     },
     "execution_count": 37,
     "metadata": {},
     "output_type": "execute_result"
    }
   ],
   "source": [
    "bi_loss"
   ]
  }
 ],
 "metadata": {
  "kernelspec": {
   "display_name": "Python 3 (ipykernel)",
   "language": "python",
   "name": "python3"
  },
  "language_info": {
   "codemirror_mode": {
    "name": "ipython",
    "version": 3
   },
   "file_extension": ".py",
   "mimetype": "text/x-python",
   "name": "python",
   "nbconvert_exporter": "python",
   "pygments_lexer": "ipython3",
   "version": "3.9.7"
  }
 },
 "nbformat": 4,
 "nbformat_minor": 5
}
