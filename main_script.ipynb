{
 "cells": [
  {
   "cell_type": "code",
   "execution_count": 1,
   "metadata": {
    "collapsed": true,
    "pycharm": {
     "name": "#%%\n"
    }
   },
   "outputs": [],
   "source": [
    "import pyGM as gm\n",
    "import numpy as np\n",
    "import matplotlib.pyplot as plt\n"
   ]
  },
  {
   "cell_type": "code",
   "execution_count": null,
   "metadata": {},
   "outputs": [],
   "source": [
    "import numpy as np\n",
    "import pystan\n",
    "import matplotlib.pyplot as plt\n",
    "%matplotlib inline"
   ]
  },
  {
   "cell_type": "code",
   "execution_count": 2,
   "metadata": {
    "pycharm": {
     "name": "#%%\n"
    }
   },
   "outputs": [],
   "source": [
    "\n",
    "# Load training data and reduce (subsample) if desired\n",
    "\n",
    "# Read thru file to get numeric ids for each player\n",
    "with open('starcraft/train.csv') as f: lines = f.read().split('\\n')\n",
    "\n",
    "p = 0; playerid = {};\n",
    "for i in range(len(lines)):\n",
    "  csv = lines[i].split(',');\n",
    "  if len(csv) != 10: continue;   # parse error or blank line\n",
    "  player0,player1 = csv[1],csv[4];\n",
    "  if player0 not in playerid: playerid[player0]=p; p+=1;\n",
    "  if player1 not in playerid: playerid[player1]=p; p+=1;\n",
    "\n",
    "nplayers = len(playerid)\n",
    "playername = ['']*nplayers\n",
    "for player in playerid: playername[ playerid[player] ]=player;  # id to name lookup\n",
    "\n",
    "\n",
    "# Sparsifying parameters (discard some training examples):\n",
    "pKeep = 1.0   # fraction of edges to consider (immed. throw out 1-p edges)\n",
    "nEdge = 3     # try to keep nEdge opponents per player (may be more; asymmetric)\n",
    "nKeep = 5     # keep at most nKeep games per opponent pairs (play each other multiple times)\n",
    "\n",
    "nplays, nwins = np.zeros( (nplayers,nplayers) ), np.zeros( (nplayers,nplayers) );\n",
    "for i in range(len(lines)):\n",
    "  csv = lines[i].split(',');\n",
    "  if len(csv) != 10: continue;   # parse error or blank line\n",
    "  a,b = playerid[csv[1]],playerid[csv[4]];\n",
    "  aw,bw = csv[2]=='[winner]',csv[5]=='[winner]';\n",
    "  if (np.random.rand() < pKeep):\n",
    "    if (nplays[a,b] < nKeep) and ( ((nplays[a,:]>0).sum() < nEdge) or ((nplays[:,b]>0).sum() < nEdge) ):\n",
    "      nplays[a,b] += 1; nplays[b,a]+=1; nwins[a,b] += aw; nwins[b,a] += bw;\n",
    "\n",
    "\n"
   ]
  },
  {
   "cell_type": "code",
   "execution_count": null,
   "metadata": {},
   "outputs": [],
   "source": [
    "# Hanxiao Chai\n"
   ]
  },
  {
   "cell_type": "code",
   "execution_count": 11,
   "metadata": {
    "pycharm": {
     "name": "#%%\n"
    }
   },
   "outputs": [
    {
     "name": "stdout",
     "output_type": "stream",
     "text": [
      "0.0\n",
      "0.0\n"
     ]
    }
   ],
   "source": [
    "print(nwins[1,2])\n",
    "print(nwins[2,1])"
   ]
  }
 ],
 "metadata": {
  "kernelspec": {
   "display_name": "Python 3 (ipykernel)",
   "language": "python",
   "name": "python3"
  },
  "language_info": {
   "codemirror_mode": {
    "name": "ipython",
    "version": 3
   },
   "file_extension": ".py",
   "mimetype": "text/x-python",
   "name": "python",
   "nbconvert_exporter": "python",
   "pygments_lexer": "ipython3",
   "version": "3.9.7"
  }
 },
 "nbformat": 4,
 "nbformat_minor": 1
}
